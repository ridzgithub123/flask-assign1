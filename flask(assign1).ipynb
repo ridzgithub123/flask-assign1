{
 "cells": [
  {
   "cell_type": "code",
   "execution_count": null,
   "id": "8d6028a6-cf75-4278-8ac8-ff03c60dc300",
   "metadata": {},
   "outputs": [],
   "source": [
    "# Q1. What is Flask Framework? What are the advantages of Flask Framework?\n",
    "'''\n",
    "Flask is a python web framework that is used for developing web applications.\n",
    "The advantages of using Flask framework are:\n",
    "Built-in development server and a fast debugger provided.\n",
    "Lightweight.\n",
    "Secure cookies are supported.\n",
    "Templating using Jinja.\n",
    "Request dispatching using REST.\n",
    "Support for unit testing is built-in\n",
    "\n",
    "'''"
   ]
  },
  {
   "cell_type": "code",
   "execution_count": null,
   "id": "3439a1e3-9db5-4ae5-935f-50346898f931",
   "metadata": {},
   "outputs": [],
   "source": [
    "#Q2. Create a simple Flask application to display ‘Hello World!!’. Attach the screenshot of the output in\n",
    "#Jupyter Notebook.\n",
    "\n",
    "from flask import Flask\n",
    "\n",
    "app = Flask(__name__)\n",
    "\n",
    "@app.route(\"/\")\n",
    "def hello_world():\n",
    "    return \"<h1>Hello World!!</h1>\"\n",
    "\n",
    "if __name__==\"__main__\":\n",
    "    app.run(host=\"0.0.0.0\")\n",
    "    \n",
    "\n"
   ]
  },
  {
   "cell_type": "code",
   "execution_count": null,
   "id": "b9ace989-af74-45c7-a44f-508a1f7b5962",
   "metadata": {},
   "outputs": [],
   "source": [
    "#Q3. What is App routing in Flask? Why do we use app routes?\n",
    "'''\n",
    "App routing in Flask is a technique used to map a specific URL with the associated function that is intended to perform some task.\n",
    "It is used to access a particular page like Flask Tutorial in the web application.\n",
    "The routing technique helps a user remember application URLs and is useful to access the desired page directly without having to navigate from the home page.\n",
    "The route() decorator in Flask is used to bind URL to a function.\n",
    "\n",
    "The biggest reason for having routing is because, if the user hits the Back button of the browser (Forward button as well, for that matter),\n",
    "they will not be navigating within the app. The user might expect to navigate within the app using the history of the different\n",
    "\"pages\" they loaded previously. Instead, they will be thrown out of the web app. \n",
    "Hitting the Refresh button would also throw them to the root of the app.\n",
    "\n",
    "'''\n"
   ]
  },
  {
   "cell_type": "code",
   "execution_count": null,
   "id": "6b0e3e88-23f9-4501-8c3d-7ab9ffaebeda",
   "metadata": {},
   "outputs": [],
   "source": [
    " #Q4. Create a “/welcome” route to display the welcome message “Welcome to ABC Corporation” and a “/”\n",
    "#route to show the following details:\n",
    "#Company Name: ABC Corporation\n",
    " #Location: India\n",
    " #Contact Detail: 999-999-9999\n",
    "#Attach the screenshot of the output in Jupyter Notebook.\n",
    "\n",
    "\n",
    "from flask import Flask\n",
    "\n",
    "app = Flask(__name__)\n",
    "\n",
    "@app.route(\"/welcome\")\n",
    "def welcome():\n",
    "    return \"<h1>Welcome to ABC corporation</h1>\"\n",
    "\n",
    "\n",
    "@app.route(\"/\")\n",
    "def info():\n",
    "    return \"<h2>Company Name : ABC Corporation., \\n Location: India , \\n Contact Detail: 999-999-9999 </h2>\"\n",
    "    \n",
    "\n",
    "\n",
    "if __name__==\"__main__\":\n",
    "    app.run(host=\"0.0.0.0\")\n"
   ]
  },
  {
   "cell_type": "code",
   "execution_count": null,
   "id": "23ef2a40-8ba2-4a86-ae28-042df6be93dd",
   "metadata": {},
   "outputs": [],
   "source": [
    "#Q5. What function is used in Flask for URL Building? Write a Python code to demonstrate the working of the\n",
    "#url_for() function.\n",
    "'''\n",
    "The url_for() method, is used to prepare a URL, for a function dynamically, such that, changing URLs, in the application, is avoided.\n",
    "It accepts, the name of the view function, as the first argument, and, any number of keywords, to be sent(to the view function), \n",
    "as the second argument. "
   ]
  }
 ],
 "metadata": {
  "kernelspec": {
   "display_name": "Python 3 (ipykernel)",
   "language": "python",
   "name": "python3"
  },
  "language_info": {
   "codemirror_mode": {
    "name": "ipython",
    "version": 3
   },
   "file_extension": ".py",
   "mimetype": "text/x-python",
   "name": "python",
   "nbconvert_exporter": "python",
   "pygments_lexer": "ipython3",
   "version": "3.10.8"
  }
 },
 "nbformat": 4,
 "nbformat_minor": 5
}
